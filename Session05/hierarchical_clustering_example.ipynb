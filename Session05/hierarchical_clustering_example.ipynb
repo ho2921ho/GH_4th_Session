{
 "cells": [
  {
   "cell_type": "code",
   "execution_count": 1,
   "metadata": {},
   "outputs": [],
   "source": [
    "from scipy.spatial.distance import euclidean as distance\n",
    "import math, random\n",
    "import matplotlib.pyplot as plt\n",
    "\n",
    "inputs = [[-14,-5],[13,13],[20,23],[-19,-11],[-9,-16],[21,27],[-49,15],[26,13],[-46,5],[-34,-1],[11,15],[-49,0],[-22,-16],[19,28],[-12,-8],[-13,-19],[-41,8],[-11,-6],[-25,-9],[-18,-3]]"
   ]
  },
  {
   "cell_type": "markdown",
   "metadata": {},
   "source": [
    "### tree 형태의 클러스터"
   ]
  },
  {
   "cell_type": "code",
   "execution_count": 2,
   "metadata": {},
   "outputs": [],
   "source": [
    "def is_leaf(cluster):\n",
    "    return len(cluster) == 1\n",
    "\n",
    "def get_children(cluster):\n",
    "    if is_leaf(cluster):\n",
    "        raise TypeError(\"a leaf cluster has no children\")\n",
    "    else:\n",
    "        return cluster[1]\n",
    "\n",
    "def get_values(cluster):\n",
    "    # 잎이면 잎의 value, 병합된 군집이면 군집 내 모든 잎의 value를 리턴\n",
    "    if is_leaf(cluster):\n",
    "        return cluster # is already a 1-tuple containing value\n",
    "    else:\n",
    "        return [value\n",
    "                for child in get_children(cluster)\n",
    "                for value in get_values(child)]\n"
   ]
  },
  {
   "cell_type": "code",
   "execution_count": 3,
   "metadata": {},
   "outputs": [],
   "source": [
    "def cluster_distance(cluster1, cluster2, distance_agg = min):\n",
    "    # cluster1내 모든 원소와 cluster2내 모든 원소 사이의 거리 중 min을 리턴\n",
    "    return distance_agg([distance(input1, input2)\n",
    "                        for input1 in get_values(cluster1)\n",
    "                        for input2 in get_values(cluster2)])\n",
    "\n",
    "def get_merge_order(cluster):\n",
    "    if is_leaf(cluster):\n",
    "        return float('inf')\n",
    "    else:\n",
    "        return cluster[0] # cluster = (병합순서, [cluster1, cluster2])\n"
   ]
  },
  {
   "cell_type": "code",
   "execution_count": 4,
   "metadata": {},
   "outputs": [
    {
     "name": "stdout",
     "output_type": "stream",
     "text": [
      "(0, [(1, [(3, [(14, [(18, [([19, 28],), ([21, 27],)]), ([20, 23],)]), ([26, 13],)]), (16, [([11, 15],), ([13, 13],)])]), (2, [(4, [(5, [(9, [(11, [([-49, 0],), ([-46, 5],)]), ([-41, 8],)]), ([-49, 15],)]), ([-34, -1],)]), (6, [(7, [(8, [(10, [([-22, -16],), ([-19, -11],)]), ([-25, -9],)]), (13, [(15, [(17, [([-11, -6],), ([-12, -8],)]), ([-14, -5],)]), ([-18, -3],)])]), (12, [([-13, -19],), ([-9, -16],)])])])])\n"
     ]
    }
   ],
   "source": [
    "def bottom_up_cluster(inputs, distance_agg=min):\n",
    "    # [(a1, ),(a2, ), (a3, ), ...] 형태의 군집들\n",
    "    clusters = [(input,) for input in inputs]\n",
    "\n",
    "    while len(clusters) > 1:\n",
    "        # 가장 가까운 두 군집을 찾자\n",
    "        c1, c2 = min([(cluster1, cluster2) for i, cluster1 in enumerate(clusters) for cluster2 in clusters[:i]],\n",
    "                       key=lambda p: cluster_distance(p[0], p[1], distance_agg))\n",
    "             # [ ((a1,),(a2,)), ((a1,),(a3,)), ((a2,),(a3,)), ((a1,),(a4,)), ((a2,),(a4,)), ((a3,),(a4,)), ...]\n",
    "             # p = ((a1,),(a2,))\n",
    "            \n",
    "        # 가장 가까운 두 군집을 전체 군집 리스트에서 없애고\n",
    "        clusters = [c for c in clusters if c != c1 and c != c2]\n",
    "\n",
    "        # (병합순서 = 남은 군집 개수) 로 병합\n",
    "        merged_cluster = (len(clusters), [c1, c2])\n",
    "\n",
    "        # 병합된 군집 추가\n",
    "        clusters.append(merged_cluster)\n",
    "\n",
    "    # when there's only one cluster left, return it\n",
    "    return clusters[0]\n",
    "\n",
    "\n",
    "base_cluster = bottom_up_cluster(inputs)\n",
    "print(base_cluster)"
   ]
  },
  {
   "cell_type": "code",
   "execution_count": 5,
   "metadata": {},
   "outputs": [],
   "source": [
    "def generate_clusters(base_cluster, num_clusters):\n",
    "    # start with a list with just the base cluster\n",
    "    clusters = [base_cluster]\n",
    "\n",
    "    # as long as we don't have enough clusters yet...\n",
    "    while len(clusters) < num_clusters:\n",
    "        # 가장 마지막으로 병합된 군집을 선택\n",
    "        next_cluster = min(clusters, key = get_merge_order)\n",
    "        # 그 군집을 전체군집리스트에서 없애고\n",
    "        clusters = [c for c in clusters if c != next_cluster]\n",
    "        # 그 군집을 풀어서 전체군집리스트에 추가\n",
    "        clusters.extend(get_children(next_cluster))\n",
    "\n",
    "    # once we have enough clusters...\n",
    "    return clusters"
   ]
  },
  {
   "cell_type": "code",
   "execution_count": 6,
   "metadata": {},
   "outputs": [
    {
     "name": "stdout",
     "output_type": "stream",
     "text": [
      "three clusters, min:\n",
      "[[-49, 0], [-46, 5], [-41, 8], [-49, 15], [-34, -1], [-22, -16], [-19, -11], [-25, -9], [-11, -6], [-12, -8], [-14, -5], [-18, -3], [-13, -19], [-9, -16]]\n",
      "[[19, 28], [21, 27], [20, 23], [26, 13]]\n",
      "[[11, 15], [13, 13]]\n",
      "\n",
      "three clusters, max:\n",
      "[[11, 15], [13, 13], [26, 13], [19, 28], [21, 27], [20, 23]]\n",
      "[[-41, 8], [-49, 15], [-49, 0], [-46, 5], [-34, -1]]\n",
      "[[-11, -6], [-12, -8], [-14, -5], [-18, -3], [-22, -16], [-19, -11], [-25, -9], [-13, -19], [-9, -16]]\n"
     ]
    }
   ],
   "source": [
    "print(\"three clusters, min:\")\n",
    "base_cluster = bottom_up_cluster(inputs, min)\n",
    "three_clusters_min =  generate_clusters(base_cluster, 3)\n",
    "for cluster in three_clusters_min:\n",
    "    print(get_values(cluster))\n",
    "\n",
    "\n",
    "print(\"\\nthree clusters, max:\")\n",
    "base_cluster = bottom_up_cluster(inputs, max)\n",
    "three_clusters_max =  generate_clusters(base_cluster, 3)\n",
    "for cluster in three_clusters_max:\n",
    "    print(get_values(cluster))"
   ]
  },
  {
   "cell_type": "markdown",
   "metadata": {},
   "source": [
    "### 군집사이의 최소거리를 minimize"
   ]
  },
  {
   "cell_type": "code",
   "execution_count": 7,
   "metadata": {},
   "outputs": [
    {
     "data": {
      "image/png": "[encoded data removed]",
      "text/plain": [
       "<Figure size 432x288 with 1 Axes>"
      ]
     },
     "metadata": {},
     "output_type": "display_data"
    }
   ],
   "source": [
    "three_clusters = [get_values(cluster) for cluster in three_clusters_min]\n",
    "for i, cluster, marker, color in zip([1,2,3],\n",
    "                                    three_clusters,\n",
    "                                    ['D','o','*'],\n",
    "                                     ['r','g','b']):\n",
    "    xs, ys = zip(*cluster)\n",
    "    plt.scatter(xs, ys, color=color, marker=marker)\n",
    "plt.show()"
   ]
  },
  {
   "cell_type": "markdown",
   "metadata": {},
   "source": [
    "### 군집사이의 최대거리를 minimize"
   ]
  },
  {
   "cell_type": "code",
   "execution_count": 8,
   "metadata": {},
   "outputs": [
    {
     "data": {
      "image/png": "[encoded data removed]",
      "text/plain": [
       "<Figure size 432x288 with 1 Axes>"
      ]
     },
     "metadata": {},
     "output_type": "display_data"
    }
   ],
   "source": [
    "three_clusters = [get_values(cluster) for cluster in three_clusters_max]\n",
    "for i, cluster, marker, color in zip([1,2,3],\n",
    "                                    three_clusters,\n",
    "                                    ['D','o','*'],\n",
    "                                     ['r','g','b']):\n",
    "    xs, ys = zip(*cluster)\n",
    "    plt.scatter(xs, ys, color=color, marker=marker)\n",
    "plt.show()"
   ]
  }
 ],
 "metadata": {
  "kernelspec": {
   "display_name": "Python 3",
   "language": "python",
   "name": "python3"
  },
  "language_info": {
   "codemirror_mode": {
    "name": "ipython",
    "version": 3
   },
   "file_extension": ".py",
   "mimetype": "text/x-python",
   "name": "python",
   "nbconvert_exporter": "python",
   "pygments_lexer": "ipython3",
   "version": "3.6.5"
  }
 },
 "nbformat": 4,
 "nbformat_minor": 2
}
